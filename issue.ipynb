{
 "cells": [
  {
   "cell_type": "markdown",
   "metadata": {},
   "source": [
    "## NoDB Ticketting: Ticket Issuer\n",
    "\n",
    "This python code handles the ticket issuer side of the program. \n",
    "\n",
    "This is an implementation of the algorithm.\n"
   ]
  },
  {
   "cell_type": "markdown",
   "metadata": {},
   "source": [
    "### Requirements/ Prerequistes\n",
    "\n",
    "Ensure the below listed libraries are already installed.\n",
    "   - qrcode\n",
    "   - datetime\n",
    "   - base64"
   ]
  },
  {
   "cell_type": "code",
   "execution_count": 1,
   "metadata": {},
   "outputs": [],
   "source": [
    "from datetime import datetime\n",
    "import qrcode\n",
    "import base64\n",
    "\n",
    "Stops = [\n",
    "    \"SEYLKX\",\n",
    "    \"9Vwshm\",\n",
    "    \"wEMkd0\",\n",
    "    \"CeM1iH\",\n",
    "    \"Netdrq\",\n",
    "    \"g4GSYL\",\n",
    "    \"zM6HjF\",\n",
    "    \"0FibJO\",\n",
    "    \"0tk4yd\",\n",
    "    \"DG0ZsT\"\n",
    "    ]\n",
    "\n",
    "def encode_string(input_string):\n",
    "    encoded_bytes = base64.b64encode(input_string.encode('utf-8'))\n",
    "    encoded_str = encoded_bytes.decode('utf-8')\n",
    "    return encoded_str\n",
    "\n",
    "qr = qrcode.QRCode(\n",
    "    version=1,  \n",
    "    error_correction=qrcode.constants.ERROR_CORRECT_L,  \n",
    "    box_size=10,  \n",
    "    border=4, \n",
    ")"
   ]
  },
  {
   "cell_type": "markdown",
   "metadata": {},
   "source": [
    "### Issuer Details: \n",
    "\n",
    "- Details included: \n",
    "Name, Issuance Branch, and Type of Operator is noted."
   ]
  },
  {
   "cell_type": "code",
   "execution_count": 2,
   "metadata": {},
   "outputs": [],
   "source": [
    "Name = \"Chinmay\"\n",
    "Stop = \"BRTS Dharwad\"\n",
    "Type = \"TI:DB\""
   ]
  },
  {
   "cell_type": "markdown",
   "metadata": {},
   "source": [
    "### Ticket Validating Details:\n",
    "\n",
    "- Details included:\n",
    "Source, Destination, Time of issuance, and issuing operator."
   ]
  },
  {
   "cell_type": "code",
   "execution_count": 3,
   "metadata": {},
   "outputs": [],
   "source": [
    "IssueBusStop = \"cvHgt5\"\n",
    "EndBusStop = \"DG0ZsT\"\n",
    "Operator = f\"{Name}_{Type}\"\n",
    "Time = datetime.now().strftime(\"%H:%M:%S\")"
   ]
  },
  {
   "cell_type": "markdown",
   "metadata": {},
   "source": [
    "### Generate the Secure Access Validator\n",
    "\n",
    "- Time and EndBusStop are mandatory. \n",
    "- IssueBusStop could be removed, but it is included for valid station checking. \n",
    "- Operator could be removed, it is could be used for further validation and ensurinf fairness across the system.   "
   ]
  },
  {
   "cell_type": "code",
   "execution_count": 4,
   "metadata": {},
   "outputs": [],
   "source": [
    "TicketCode = f\"{IssueBusStop}_{Time}_{EndBusStop}_{Operator}\"\n",
    "# print(TicketCode)"
   ]
  },
  {
   "cell_type": "markdown",
   "metadata": {},
   "source": [
    "### Encode and Create a QR Code\n",
    "\n",
    "- This program uses a simple base 64 encoding. You could use a Key+Ticketcode with shuffling to ensure even more security."
   ]
  },
  {
   "cell_type": "code",
   "execution_count": 5,
   "metadata": {},
   "outputs": [],
   "source": [
    "data = encode_string(TicketCode)\n",
    "\n",
    "qr.add_data(data)\n",
    "qr.make(fit=True)\n",
    "ticket = qr.make_image(fill=\"black\", back_color=\"white\")\n",
    "ticket.show()"
   ]
  }
 ],
 "metadata": {
  "kernelspec": {
   "display_name": "Python 3",
   "language": "python",
   "name": "python3"
  },
  "language_info": {
   "codemirror_mode": {
    "name": "ipython",
    "version": 3
   },
   "file_extension": ".py",
   "mimetype": "text/x-python",
   "name": "python",
   "nbconvert_exporter": "python",
   "pygments_lexer": "ipython3",
   "version": "3.9.6"
  }
 },
 "nbformat": 4,
 "nbformat_minor": 2
}
