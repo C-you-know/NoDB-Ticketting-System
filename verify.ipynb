{
 "cells": [
  {
   "cell_type": "markdown",
   "metadata": {},
   "source": [
    "# Ticket Verifier\n",
    "\n",
    "This piece of code runs on a computer, whose sole purpose is to verify the validity of the ticket. "
   ]
  },
  {
   "cell_type": "markdown",
   "metadata": {},
   "source": [
    "### Requirements/Prequistes\n",
    "\n",
    "Ensure the below listed libraries are already installed.\n",
    " - base64\n",
    " - datetime, timedelta"
   ]
  },
  {
   "cell_type": "code",
   "execution_count": 1,
   "metadata": {},
   "outputs": [],
   "source": [
    "import base64\n",
    "from datetime import datetime, timedelta\n",
    "\n",
    "MyStop = [\"DG0ZsT\"] # All other previous destination codes could be added.\n",
    "Cutoff = 2\n",
    "\n",
    "def decode_string(encoded_str):\n",
    "    decoded_bytes = base64.b64decode(encoded_str.encode('utf-8'))\n",
    "    decoded_str = decoded_bytes.decode('utf-8')\n",
    "    return decoded_str"
   ]
  },
  {
   "cell_type": "markdown",
   "metadata": {},
   "source": [
    "### Extract the QR Code"
   ]
  },
  {
   "cell_type": "code",
   "execution_count": 2,
   "metadata": {},
   "outputs": [],
   "source": [
    "data = \"Y3ZIZ3Q1XzE5OjAyOjM5X0RHMFpza19DaGlubWF5X1RJOkRC\"\n",
    "Time = datetime.now().time()\n",
    "\n",
    "FirstCheck = 0\n",
    "SecondCheck = 0"
   ]
  },
  {
   "cell_type": "markdown",
   "metadata": {},
   "source": [
    "### Decrypt and Slice the Data"
   ]
  },
  {
   "cell_type": "code",
   "execution_count": 3,
   "metadata": {},
   "outputs": [],
   "source": [
    "Verify = decode_string(data)\n",
    "Stop = Verify[16:22]\n",
    "TTime = datetime.strptime(Verify[7:15], \"%H:%M:%S\").time()\n",
    "Time_dt = datetime.combine(datetime.min, Time)\n",
    "TTime_dt = datetime.combine(datetime.min, TTime)\n"
   ]
  },
  {
   "cell_type": "markdown",
   "metadata": {},
   "source": [
    "### First Check: Simple and Light Weight Use Cases"
   ]
  },
  {
   "cell_type": "code",
   "execution_count": 4,
   "metadata": {},
   "outputs": [
    {
     "name": "stdout",
     "output_type": "stream",
     "text": [
      "Invalid\n"
     ]
    }
   ],
   "source": [
    "for stop in MyStop:\n",
    "    if stop == Stop:\n",
    "        print()\n",
    "        FirstCheck = 1\n",
    "    else:\n",
    "        print(\"Invalid\")\n",
    "        "
   ]
  },
  {
   "cell_type": "markdown",
   "metadata": {},
   "source": [
    "### Second Check: Anti Abuse Security"
   ]
  },
  {
   "cell_type": "code",
   "execution_count": 5,
   "metadata": {},
   "outputs": [
    {
     "name": "stdout",
     "output_type": "stream",
     "text": [
      "Invalid\n"
     ]
    }
   ],
   "source": [
    "TimeDiff = Time_dt - TTime_dt\n",
    "\n",
    "if FirstCheck == 1 and TimeDiff <= timedelta(hours=Cutoff):\n",
    "    print(\"Valid Ticket. Have a Nice Day!\")\n",
    "    # Open Doors (additional code can go here)\n",
    "else:\n",
    "    print(\"Invalid\")\n",
    "\n"
   ]
  }
 ],
 "metadata": {
  "kernelspec": {
   "display_name": "Python 3",
   "language": "python",
   "name": "python3"
  },
  "language_info": {
   "codemirror_mode": {
    "name": "ipython",
    "version": 3
   },
   "file_extension": ".py",
   "mimetype": "text/x-python",
   "name": "python",
   "nbconvert_exporter": "python",
   "pygments_lexer": "ipython3",
   "version": "3.9.6"
  }
 },
 "nbformat": 4,
 "nbformat_minor": 2
}
