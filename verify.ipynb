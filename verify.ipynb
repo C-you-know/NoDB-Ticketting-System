{
 "cells": [
  {
   "cell_type": "markdown",
   "metadata": {},
   "source": [
    "# Ticket Verifier\n",
    "\n",
    "This piece of code runs on a computer, whose sole purpose is to verify the validity of the ticket. "
   ]
  },
  {
   "cell_type": "markdown",
   "metadata": {},
   "source": [
    "### Requirements/Prequistes\n",
    "\n",
    "Ensure the below listed libraries are already installed.\n",
    " - base64\n",
    " - datetime, timedelta"
   ]
  },
  {
   "cell_type": "code",
   "execution_count": 1,
   "metadata": {},
   "outputs": [],
   "source": [
    "import base64\n",
    "from datetime import datetime, timedelta\n",
    "\n",
    "MyStop = [\"DG0ZsT\"] # All other previous destination codes could be added.\n",
    "Cutoff = 2\n",
    "Left = set()\n",
    "\n",
    "def decode_string(encoded_str):\n",
    "    decoded_bytes = base64.b64decode(encoded_str.encode('utf-8'))\n",
    "    decoded_str = decoded_bytes.decode('utf-8')\n",
    "    return decoded_str"
   ]
  },
  {
   "cell_type": "markdown",
   "metadata": {},
   "source": [
    "### Extract the QR Code"
   ]
  },
  {
   "cell_type": "code",
   "execution_count": 2,
   "metadata": {},
   "outputs": [],
   "source": [
    "data = \"Y3ZIZ3Q1XzA4OjM2OjA1X0RHMFpzVF9DaGlubWF5X1RJOkRC\"\n",
    "\n",
    "FirstCheck = 0\n",
    "SecondCheck = 0"
   ]
  },
  {
   "cell_type": "markdown",
   "metadata": {},
   "source": [
    "### Decrypt and Slice the Data"
   ]
  },
  {
   "cell_type": "code",
   "execution_count": 3,
   "metadata": {},
   "outputs": [
    {
     "name": "stdout",
     "output_type": "stream",
     "text": [
      "cvHgt5_08:36:05_DG0ZsT_Chinmay_TI:DB\n"
     ]
    }
   ],
   "source": [
    "Verify = decode_string(data)\n",
    "Stop = Verify[16:22]\n",
    "Time = datetime.now().time()\n",
    "TTime = datetime.strptime(Verify[7:15], \"%H:%M:%S\").time()\n",
    "Time_dt = datetime.combine(datetime.min, Time)\n",
    "TTime_dt = datetime.combine(datetime.min, TTime)\n",
    "print(Verify)\n"
   ]
  },
  {
   "cell_type": "markdown",
   "metadata": {},
   "source": [
    "### First Check: Simple and Light Weight Use Cases"
   ]
  },
  {
   "cell_type": "code",
   "execution_count": 7,
   "metadata": {},
   "outputs": [
    {
     "name": "stdout",
     "output_type": "stream",
     "text": [
      "Cleared\n"
     ]
    }
   ],
   "source": [
    "for stop in MyStop:\n",
    "    if stop == Stop:\n",
    "        print(\"Cleared\")\n",
    "        FirstCheck = 1\n",
    "    else:\n",
    "        print(\"Invalid\")\n",
    "        "
   ]
  },
  {
   "cell_type": "markdown",
   "metadata": {},
   "source": [
    "### Second Check: Anti Abuse Security"
   ]
  },
  {
   "cell_type": "code",
   "execution_count": 8,
   "metadata": {},
   "outputs": [],
   "source": [
    "TimeDiff = Time_dt - TTime_dt\n",
    "\n",
    "\n",
    "if FirstCheck == 1 and TimeDiff <= timedelta(hours=Cutoff) and Verify[:15] not in Left:\n",
    "    print(\"Valid Ticket. Have a Nice Day!\")\n",
    "    Left.add(Verify[:15])\n",
    "    # Open Doors (additional code can go here)\n",
    "else:\n",
    "    print(\"Invalid\")\n",
    "\n"
   ]
  },
  {
   "cell_type": "code",
   "execution_count": 9,
   "metadata": {},
   "outputs": [
    {
     "name": "stdout",
     "output_type": "stream",
     "text": [
      "cvHgt5_08:36:05\n"
     ]
    }
   ],
   "source": [
    "for a in Left:\n",
    "    print(a)"
   ]
  }
 ],
 "metadata": {
  "kernelspec": {
   "display_name": "Python 3",
   "language": "python",
   "name": "python3"
  },
  "language_info": {
   "codemirror_mode": {
    "name": "ipython",
    "version": 3
   },
   "file_extension": ".py",
   "mimetype": "text/x-python",
   "name": "python",
   "nbconvert_exporter": "python",
   "pygments_lexer": "ipython3",
   "version": "3.9.6"
  }
 },
 "nbformat": 4,
 "nbformat_minor": 2
}
